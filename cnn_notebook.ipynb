{
 "cells": [
  {
   "cell_type": "markdown",
   "metadata": {},
   "source": [
    "# Body Scratch - Machine Learning Intern - Assignment\n",
    "#### Bianca Chiusano"
   ]
  },
  {
   "cell_type": "markdown",
   "metadata": {},
   "source": [
    "### Imports"
   ]
  },
  {
   "cell_type": "code",
   "execution_count": 149,
   "metadata": {},
   "outputs": [],
   "source": [
    "import tensorflow as tf\n",
    "from keras import layers\n",
    "import os\n",
    "import numpy as np\n",
    "from sklearn.model_selection import train_test_split\n",
    "import pandas as pd"
   ]
  },
  {
   "cell_type": "code",
   "execution_count": null,
   "metadata": {},
   "outputs": [],
   "source": [
    "# TODO: change the input\n",
    "# TODO: change the numpy labels to be string vector"
   ]
  },
  {
   "cell_type": "markdown",
   "metadata": {},
   "source": [
    "### Import Data and Labels"
   ]
  },
  {
   "cell_type": "code",
   "execution_count": 150,
   "metadata": {},
   "outputs": [],
   "source": [
    "# 17 classes\n",
    "class_names = ['action_down', 'action_inside', 'action_new', 'action_outside',\n",
    "               'action_remove_block', 'action_select_block', 'action_switch', \n",
    "               'action_up', 'block_events_ran', 'category_control', 'category_events',\n",
    "               'category_looks', 'category_motion', 'category_sound', 'dummy', \n",
    "               'select_avatar', 'select_backdrop']\n",
    "class_numbers = [0,1,2,3,4,5,6,7,8,9,10,11,12,13,14,15,16]\n",
    "base_dir = 'actions/'"
   ]
  },
  {
   "cell_type": "code",
   "execution_count": 151,
   "metadata": {},
   "outputs": [
    {
     "name": "stdout",
     "output_type": "stream",
     "text": [
      "1404\n",
      "2595\n",
      "2000\n",
      "2117\n",
      "2385\n",
      "2372\n",
      "2974\n",
      "3107\n",
      "2130\n",
      "2189\n",
      "2088\n",
      "1264\n",
      "1038\n",
      "2645\n",
      "5963\n",
      "1571\n",
      "2711\n",
      "40553\n",
      "40553\n"
     ]
    }
   ],
   "source": [
    "# Initial data shape (1, 17, 64, 48) - 17 channels, size (64,48)\n",
    "all_data = []\n",
    "labels = []\n",
    "for folder in class_names:\n",
    "    folder_path = os.path.join(base_dir, folder)\n",
    "    count = 0\n",
    "    for file in os.listdir(folder_path):\n",
    "        file_path = os.path.join(folder_path, file)\n",
    "\n",
    "        try:\n",
    "            heatmap = np.load(file_path)\n",
    "            count = count +1\n",
    "            all_data.append(heatmap)\n",
    "            labels.append(folder)\n",
    "        except Exception as e:\n",
    "            print('Error loading path file')\n",
    "    print(count)\n",
    "print(len(all_data))\n",
    "print(len(labels))"
   ]
  },
  {
   "cell_type": "markdown",
   "metadata": {},
   "source": [
    "### Csv for comfort"
   ]
  },
  {
   "cell_type": "code",
   "execution_count": 152,
   "metadata": {},
   "outputs": [],
   "source": [
    "data_df = pd.DataFrame(columns=['file', 'label'])\n",
    "data_df['file'] = all_data\n",
    "data_df['label'] = labels\n",
    "data_df.to_csv('all_data.csv')"
   ]
  },
  {
   "cell_type": "code",
   "execution_count": 153,
   "metadata": {},
   "outputs": [
    {
     "data": {
      "text/html": [
       "<div>\n",
       "<style scoped>\n",
       "    .dataframe tbody tr th:only-of-type {\n",
       "        vertical-align: middle;\n",
       "    }\n",
       "\n",
       "    .dataframe tbody tr th {\n",
       "        vertical-align: top;\n",
       "    }\n",
       "\n",
       "    .dataframe thead th {\n",
       "        text-align: right;\n",
       "    }\n",
       "</style>\n",
       "<table border=\"1\" class=\"dataframe\">\n",
       "  <thead>\n",
       "    <tr style=\"text-align: right;\">\n",
       "      <th></th>\n",
       "      <th>Unnamed: 0</th>\n",
       "      <th>file</th>\n",
       "      <th>label</th>\n",
       "    </tr>\n",
       "  </thead>\n",
       "  <tbody>\n",
       "    <tr>\n",
       "      <th>0</th>\n",
       "      <td>0</td>\n",
       "      <td>[[[[ 6.4169858e-03  1.8537384e-03  5.6571588e-...</td>\n",
       "      <td>action_down</td>\n",
       "    </tr>\n",
       "    <tr>\n",
       "      <th>1</th>\n",
       "      <td>1</td>\n",
       "      <td>[[[[-1.00740418e-03  7.46724603e-04  6.3997710...</td>\n",
       "      <td>action_down</td>\n",
       "    </tr>\n",
       "    <tr>\n",
       "      <th>2</th>\n",
       "      <td>2</td>\n",
       "      <td>[[[[ 6.18933234e-03  1.96076743e-03  1.3250164...</td>\n",
       "      <td>action_down</td>\n",
       "    </tr>\n",
       "    <tr>\n",
       "      <th>3</th>\n",
       "      <td>3</td>\n",
       "      <td>[[[[ 6.23758417e-03  2.78566894e-03  5.4785274...</td>\n",
       "      <td>action_down</td>\n",
       "    </tr>\n",
       "    <tr>\n",
       "      <th>4</th>\n",
       "      <td>4</td>\n",
       "      <td>[[[[-3.94232012e-03  1.94556662e-03  5.4315634...</td>\n",
       "      <td>action_down</td>\n",
       "    </tr>\n",
       "  </tbody>\n",
       "</table>\n",
       "</div>"
      ],
      "text/plain": [
       "   Unnamed: 0                                               file        label\n",
       "0           0  [[[[ 6.4169858e-03  1.8537384e-03  5.6571588e-...  action_down\n",
       "1           1  [[[[-1.00740418e-03  7.46724603e-04  6.3997710...  action_down\n",
       "2           2  [[[[ 6.18933234e-03  1.96076743e-03  1.3250164...  action_down\n",
       "3           3  [[[[ 6.23758417e-03  2.78566894e-03  5.4785274...  action_down\n",
       "4           4  [[[[-3.94232012e-03  1.94556662e-03  5.4315634...  action_down"
      ]
     },
     "execution_count": 153,
     "metadata": {},
     "output_type": "execute_result"
    }
   ],
   "source": [
    "import_data = pd.read_csv('all_data.csv')\n",
    "import_data.head()"
   ]
  },
  {
   "cell_type": "markdown",
   "metadata": {},
   "source": [
    "### Train and Test Split"
   ]
  },
  {
   "cell_type": "code",
   "execution_count": 154,
   "metadata": {},
   "outputs": [
    {
     "name": "stdout",
     "output_type": "stream",
     "text": [
      "(32442, 17, 64, 48)\n",
      "(8111, 17, 64, 48)\n"
     ]
    }
   ],
   "source": [
    "X_train, X_test, y_train, y_test = train_test_split(all_data, labels, test_size= 0.2, random_state=42)\n",
    "train = np.vstack(X_train)\n",
    "test = np.vstack(X_test)\n",
    "print(train.shape)\n",
    "print(test.shape)"
   ]
  },
  {
   "cell_type": "code",
   "execution_count": 160,
   "metadata": {},
   "outputs": [],
   "source": [
    "train_labels = []\n",
    "for label in y_train:\n",
    "    if label in class_names:\n",
    "        index = class_names.index(label)\n",
    "        train_labels.append(class_numbers[index])"
   ]
  },
  {
   "cell_type": "code",
   "execution_count": 161,
   "metadata": {},
   "outputs": [],
   "source": [
    "test_labels = []\n",
    "for label in y_test:\n",
    "    if label in class_names:\n",
    "        index = class_names.index(label)\n",
    "        test_labels.append(class_numbers[index])"
   ]
  },
  {
   "cell_type": "code",
   "execution_count": 162,
   "metadata": {},
   "outputs": [
    {
     "name": "stdout",
     "output_type": "stream",
     "text": [
      "action_new\n"
     ]
    }
   ],
   "source": [
    "print(y_train[0])"
   ]
  },
  {
   "cell_type": "code",
   "execution_count": 163,
   "metadata": {},
   "outputs": [
    {
     "name": "stdout",
     "output_type": "stream",
     "text": [
      "2\n"
     ]
    }
   ],
   "source": [
    "print(train_labels[0])"
   ]
  },
  {
   "cell_type": "markdown",
   "metadata": {},
   "source": [
    "### Reshaping data labels in an appropriate shape for tensorflow"
   ]
  },
  {
   "cell_type": "code",
   "execution_count": 164,
   "metadata": {},
   "outputs": [
    {
     "name": "stdout",
     "output_type": "stream",
     "text": [
      "(32442, 1)\n"
     ]
    }
   ],
   "source": [
    "numpy_train = np.empty((len(y_train), 1))\n",
    "for num in range(0, len(train_labels)):\n",
    "    numpy_train[num] = train_labels[num]\n",
    "\n",
    "print(numpy_train.shape)"
   ]
  },
  {
   "cell_type": "code",
   "execution_count": 165,
   "metadata": {},
   "outputs": [
    {
     "name": "stdout",
     "output_type": "stream",
     "text": [
      "(8111, 1)\n"
     ]
    }
   ],
   "source": [
    "numpy_test = np.empty((len(y_test), 1))\n",
    "for num in range(0, len(test_labels)):\n",
    "    numpy_test[num] = test_labels[num]\n",
    "\n",
    "print(numpy_test.shape)"
   ]
  },
  {
   "cell_type": "markdown",
   "metadata": {},
   "source": [
    "### Reshape for tensorflow"
   ]
  },
  {
   "cell_type": "code",
   "execution_count": 167,
   "metadata": {},
   "outputs": [],
   "source": [
    "# Reshape to fit tensorflow \n",
    "reshaped_train_data = tf.transpose(train, [0, 2, 3, 1])\n",
    "reshaped_test_data = tf.transpose(test, [0, 2, 3, 1])"
   ]
  },
  {
   "cell_type": "code",
   "execution_count": 168,
   "metadata": {},
   "outputs": [
    {
     "name": "stdout",
     "output_type": "stream",
     "text": [
      "(32442, 64, 48, 17)\n",
      "(8111, 64, 48, 17)\n"
     ]
    }
   ],
   "source": [
    "# Debug\n",
    "print(reshaped_train_data.shape)\n",
    "print(reshaped_test_data.shape)"
   ]
  },
  {
   "cell_type": "code",
   "execution_count": 169,
   "metadata": {},
   "outputs": [],
   "source": [
    "# Normalise\n",
    "reshaped_train_data = reshaped_train_data / 255.0\n",
    "reshaped_test_data = reshaped_test_data / 255.0"
   ]
  },
  {
   "cell_type": "markdown",
   "metadata": {},
   "source": [
    "## CNN Model"
   ]
  },
  {
   "cell_type": "markdown",
   "metadata": {},
   "source": [
    "#### Validation set hot encoding for train and test model"
   ]
  },
  {
   "cell_type": "code",
   "execution_count": 170,
   "metadata": {},
   "outputs": [],
   "source": [
    "val_hot_encoding_train = tf.keras.utils.to_categorical(numpy_train, 17)\n",
    "val_hot_encoding_test = tf.keras.utils.to_categorical(numpy_test, 17)"
   ]
  },
  {
   "cell_type": "markdown",
   "metadata": {},
   "source": [
    "### Model (images)"
   ]
  },
  {
   "cell_type": "code",
   "execution_count": 177,
   "metadata": {},
   "outputs": [
    {
     "name": "stdout",
     "output_type": "stream",
     "text": [
      "Model: \"sequential_24\"\n",
      "_________________________________________________________________\n",
      " Layer (type)                Output Shape              Param #   \n",
      "=================================================================\n",
      " conv2d_24 (Conv2D)          (None, 61, 45, 32)        8736      \n",
      "                                                                 \n",
      " max_pooling2d_24 (MaxPooli  (None, 30, 22, 32)        0         \n",
      " ng2D)                                                           \n",
      "                                                                 \n",
      " conv2d_25 (Conv2D)          (None, 27, 19, 64)        32832     \n",
      "                                                                 \n",
      " max_pooling2d_25 (MaxPooli  (None, 13, 9, 64)         0         \n",
      " ng2D)                                                           \n",
      "                                                                 \n",
      " flatten_18 (Flatten)        (None, 7488)              0         \n",
      "                                                                 \n",
      " dense_49 (Dense)            (None, 64)                479296    \n",
      "                                                                 \n",
      " dense_50 (Dense)            (None, 32)                2080      \n",
      "                                                                 \n",
      " dense_51 (Dense)            (None, 17)                561       \n",
      "                                                                 \n",
      "=================================================================\n",
      "Total params: 523505 (2.00 MB)\n",
      "Trainable params: 523505 (2.00 MB)\n",
      "Non-trainable params: 0 (0.00 Byte)\n",
      "_________________________________________________________________\n",
      "None\n"
     ]
    }
   ],
   "source": [
    "model_images = tf.keras.models.Sequential()\n",
    "model_images.add(layers.Conv2D(filters=32, kernel_size = (4,4), strides = (1,1), input_shape = (64,48,17), activation = 'relu'))\n",
    "model_images.add(layers.MaxPooling2D(pool_size=(2,2)))\n",
    "model_images.add(layers.Conv2D(filters=64, kernel_size = (4,4), activation = 'relu'))\n",
    "model_images.add(layers.MaxPooling2D(pool_size=(2,2)))\n",
    "\n",
    "model_images.add(layers.Flatten()) # into 1 dimension\n",
    "model_images.add(layers.Dense(64, activation='relu'))\n",
    "model_images.add(layers.Dense(32, activation='relu'))\n",
    "model_images.add(layers.Dense(17, activation='softmax'))\n",
    "\n",
    "\n",
    "print(model_images.summary())"
   ]
  },
  {
   "cell_type": "code",
   "execution_count": 206,
   "metadata": {},
   "outputs": [],
   "source": [
    "#loss = tf.keras.losses.SparseCategoricalCrossentropy(from_logits=True)\n",
    "#opt = tf.keras.optimizers.legacy.Adam(learning_rate = 0.001)\n",
    "#metrics = ['accuracy']\n",
    "model_images.compile(loss='categorical_crossentropy',optimizer='adam',metrics=['accuracy'])"
   ]
  },
  {
   "cell_type": "code",
   "execution_count": 207,
   "metadata": {},
   "outputs": [
    {
     "name": "stdout",
     "output_type": "stream",
     "text": [
      "Epoch 1/10\n",
      "1014/1014 [==============================] - 47s 46ms/step - loss: 0.8801 - accuracy: 0.7269 - val_loss: 0.0250 - val_accuracy: 0.9937\n",
      "Epoch 2/10\n",
      "1014/1014 [==============================] - 63s 62ms/step - loss: 0.0158 - accuracy: 0.9968 - val_loss: 0.0055 - val_accuracy: 0.9984\n",
      "Epoch 3/10\n",
      "1014/1014 [==============================] - 57s 56ms/step - loss: 0.0069 - accuracy: 0.9985 - val_loss: 0.0048 - val_accuracy: 0.9989\n",
      "Epoch 4/10\n",
      "1014/1014 [==============================] - 54s 53ms/step - loss: 0.0039 - accuracy: 0.9990 - val_loss: 0.0264 - val_accuracy: 0.9896\n",
      "Epoch 5/10\n",
      "1014/1014 [==============================] - 57s 56ms/step - loss: 0.0044 - accuracy: 0.9988 - val_loss: 0.0063 - val_accuracy: 0.9986\n",
      "Epoch 6/10\n",
      "1014/1014 [==============================] - 68s 67ms/step - loss: 0.0038 - accuracy: 0.9988 - val_loss: 8.5806e-04 - val_accuracy: 0.9999\n",
      "Epoch 7/10\n",
      "1014/1014 [==============================] - 68s 67ms/step - loss: 0.0017 - accuracy: 0.9995 - val_loss: 0.0022 - val_accuracy: 0.9994\n",
      "Epoch 8/10\n",
      "1014/1014 [==============================] - 63s 62ms/step - loss: 0.0040 - accuracy: 0.9989 - val_loss: 0.0039 - val_accuracy: 0.9993\n",
      "Epoch 9/10\n",
      "1014/1014 [==============================] - 62s 61ms/step - loss: 1.9426e-04 - accuracy: 1.0000 - val_loss: 4.3664e-05 - val_accuracy: 1.0000\n",
      "Epoch 10/10\n",
      "1014/1014 [==============================] - 63s 62ms/step - loss: 2.1431e-05 - accuracy: 1.0000 - val_loss: 1.2830e-05 - val_accuracy: 1.0000\n"
     ]
    }
   ],
   "source": [
    "hist_model_images=model_images.fit(reshaped_train_data,val_hot_encoding_train,epochs=10,validation_data=(reshaped_test_data,val_hot_encoding_test))\n",
    "#hist_model_images = model_images.fit(reshaped_train_data, numpy_train, epochs=5, batch_size=32)"
   ]
  },
  {
   "cell_type": "code",
   "execution_count": 208,
   "metadata": {},
   "outputs": [
    {
     "name": "stdout",
     "output_type": "stream",
     "text": [
      "254/254 [==============================] - 4s 13ms/step - loss: 6373.2896 - accuracy: 0.0361\n",
      "Loss:  6373.28955078125\n",
      "Accuracy:  0.03612378239631653\n"
     ]
    }
   ],
   "source": [
    "loss, accuracy = model_images.evaluate(reshaped_test_data, numpy_test)\n",
    "print('Loss: ', loss)\n",
    "print('Accuracy: ', accuracy)"
   ]
  },
  {
   "cell_type": "markdown",
   "metadata": {},
   "source": [
    "## Model - Keypoints"
   ]
  },
  {
   "cell_type": "code",
   "execution_count": 171,
   "metadata": {},
   "outputs": [],
   "source": [
    "model_1 = tf.keras.Sequential([\n",
    "    tf.keras.layers.Flatten(input_shape=(64, 48, 17)),\n",
    "    tf.keras.layers.Dense(64, activation='relu'),\n",
    "    tf.keras.layers.Dense(17, activation='softmax')\n",
    "])"
   ]
  },
  {
   "cell_type": "code",
   "execution_count": 172,
   "metadata": {},
   "outputs": [],
   "source": [
    "model_1.compile(optimizer='adam',\n",
    "              loss='categorical_crossentropy',\n",
    "              metrics=['accuracy'])"
   ]
  },
  {
   "cell_type": "code",
   "execution_count": 173,
   "metadata": {},
   "outputs": [
    {
     "name": "stdout",
     "output_type": "stream",
     "text": [
      "Epoch 1/10\n",
      "1014/1014 [==============================] - 20s 20ms/step - loss: 0.9420 - accuracy: 0.8149 - val_loss: 0.1147 - val_accuracy: 0.9952\n",
      "Epoch 2/10\n",
      "1014/1014 [==============================] - 40s 39ms/step - loss: 0.0510 - accuracy: 0.9982 - val_loss: 0.0247 - val_accuracy: 0.9988\n",
      "Epoch 3/10\n",
      "1014/1014 [==============================] - 46s 45ms/step - loss: 0.0150 - accuracy: 0.9994 - val_loss: 0.0103 - val_accuracy: 0.9995\n",
      "Epoch 4/10\n",
      "1014/1014 [==============================] - 52s 51ms/step - loss: 0.0068 - accuracy: 0.9997 - val_loss: 0.0055 - val_accuracy: 0.9995\n",
      "Epoch 5/10\n",
      "1014/1014 [==============================] - 55s 55ms/step - loss: 0.0036 - accuracy: 0.9998 - val_loss: 0.0033 - val_accuracy: 0.9995\n",
      "Epoch 6/10\n",
      "1014/1014 [==============================] - 67s 66ms/step - loss: 0.0021 - accuracy: 1.0000 - val_loss: 0.0022 - val_accuracy: 0.9995\n",
      "Epoch 7/10\n",
      "1014/1014 [==============================] - 140s 137ms/step - loss: 0.0013 - accuracy: 1.0000 - val_loss: 0.0015 - val_accuracy: 0.9998\n",
      "Epoch 8/10\n",
      "1014/1014 [==============================] - 121s 119ms/step - loss: 8.3645e-04 - accuracy: 1.0000 - val_loss: 0.0011 - val_accuracy: 0.9998\n",
      "Epoch 9/10\n",
      "1014/1014 [==============================] - 144s 142ms/step - loss: 5.3532e-04 - accuracy: 1.0000 - val_loss: 7.6394e-04 - val_accuracy: 0.9999\n",
      "Epoch 10/10\n",
      "1014/1014 [==============================] - 75s 73ms/step - loss: 3.5989e-04 - accuracy: 1.0000 - val_loss: 5.9141e-04 - val_accuracy: 0.9999\n"
     ]
    }
   ],
   "source": [
    "hist_model_1=model_1.fit(reshaped_train_data,val_hot_encoding_train,epochs=10,validation_data=(reshaped_test_data,val_hot_encoding_test))"
   ]
  },
  {
   "cell_type": "code",
   "execution_count": 174,
   "metadata": {},
   "outputs": [
    {
     "data": {
      "text/plain": [
       "<Axes: >"
      ]
     },
     "execution_count": 174,
     "metadata": {},
     "output_type": "execute_result"
    },
    {
     "data": {
      "image/png": "[encoded data removed]",
      "text/plain": [
       "<Figure size 640x480 with 1 Axes>"
      ]
     },
     "metadata": {},
     "output_type": "display_data"
    }
   ],
   "source": [
    "pd.DataFrame(hist_model_1.history).plot()"
   ]
  },
  {
   "cell_type": "code",
   "execution_count": 175,
   "metadata": {},
   "outputs": [
    {
     "name": "stdout",
     "output_type": "stream",
     "text": [
      "254/254 [==============================] - 1s 2ms/step - loss: 2185.3896 - accuracy: 0.0361\n",
      "Test Accuracy: 0.03612378239631653\n"
     ]
    }
   ],
   "source": [
    "#Without hot encoding - 0.036 :(\n",
    "evaluation = model_1.evaluate(reshaped_test_data, numpy_test)\n",
    "print('Test Accuracy: {}'.format(evaluation[1]))"
   ]
  },
  {
   "cell_type": "code",
   "execution_count": 176,
   "metadata": {},
   "outputs": [
    {
     "name": "stdout",
     "output_type": "stream",
     "text": [
      "254/254 [==============================] - 1s 2ms/step - loss: 5.9141e-04 - accuracy: 0.9999\n",
      "Test Accuracy: 0.9998767375946045\n"
     ]
    }
   ],
   "source": [
    "# With hot encoding - 0.99\n",
    "evaluation = model_1.evaluate(reshaped_test_data, val_hot_encoding_test)\n",
    "print('Test Accuracy: {}'.format(evaluation[1]))"
   ]
  },
  {
   "cell_type": "markdown",
   "metadata": {},
   "source": [
    "## Model 2 - Keypoints with an extra Dense layer"
   ]
  },
  {
   "cell_type": "code",
   "execution_count": 210,
   "metadata": {},
   "outputs": [
    {
     "name": "stdout",
     "output_type": "stream",
     "text": [
      "Epoch 1/5\n",
      "1014/1014 [==============================] - 23s 22ms/step - loss: 0.6817 - accuracy: 0.8379 - val_loss: 0.0375 - val_accuracy: 0.9968\n",
      "Epoch 2/5\n",
      "1014/1014 [==============================] - 55s 54ms/step - loss: 0.0166 - accuracy: 0.9985 - val_loss: 0.0106 - val_accuracy: 0.9988\n",
      "Epoch 3/5\n",
      "1014/1014 [==============================] - 41s 41ms/step - loss: 0.0051 - accuracy: 0.9997 - val_loss: 0.0048 - val_accuracy: 0.9991\n",
      "Epoch 4/5\n",
      "1014/1014 [==============================] - 42s 41ms/step - loss: 0.0023 - accuracy: 0.9998 - val_loss: 0.0029 - val_accuracy: 0.9995\n",
      "Epoch 5/5\n",
      "1014/1014 [==============================] - 33s 33ms/step - loss: 0.0012 - accuracy: 0.9999 - val_loss: 0.0018 - val_accuracy: 0.9995\n"
     ]
    }
   ],
   "source": [
    "model_2 = tf.keras.Sequential([\n",
    "    tf.keras.layers.Flatten(input_shape=(64, 48, 17)),\n",
    "    tf.keras.layers.Dense(64, activation='relu'),\n",
    "    tf.keras.layers.Dense(32, activation='relu'),\n",
    "    tf.keras.layers.Dense(17, activation='softmax')\n",
    "])\n",
    "\n",
    "model_2.compile(optimizer='adam', loss='categorical_crossentropy', metrics=['accuracy'])\n",
    "hist_model_2 = model_2.fit(reshaped_train_data,val_hot_encoding_train,epochs=5,validation_data=(reshaped_test_data,val_hot_encoding_test))"
   ]
  },
  {
   "cell_type": "code",
   "execution_count": 211,
   "metadata": {},
   "outputs": [
    {
     "name": "stdout",
     "output_type": "stream",
     "text": [
      "254/254 [==============================] - 1s 2ms/step - loss: 2700.3589 - accuracy: 0.0360\n",
      "Test Accuracy: 0.03600049391388893\n"
     ]
    }
   ],
   "source": [
    "evaluation = model_2.evaluate(reshaped_test_data, numpy_test)\n",
    "print('Test Accuracy: {}'.format(evaluation[1]))"
   ]
  },
  {
   "cell_type": "markdown",
   "metadata": {},
   "source": [
    "## Saving the model"
   ]
  },
  {
   "cell_type": "code",
   "execution_count": 181,
   "metadata": {},
   "outputs": [
    {
     "name": "stderr",
     "output_type": "stream",
     "text": [
      "/Users/biancachiusano/Documents/Coding_Projects/assignment/venv/lib/python3.11/site-packages/keras/src/engine/training.py:3079: UserWarning: You are saving your model as an HDF5 file via `model.save()`. This file format is considered legacy. We recommend using instead the native Keras format, e.g. `model.save('my_model.keras')`.\n",
      "  saving_api.save_model(\n"
     ]
    }
   ],
   "source": [
    "model_1.save('model_1.h5')"
   ]
  },
  {
   "cell_type": "markdown",
   "metadata": {},
   "source": [
    "## Importing the model and predicting a single data point"
   ]
  },
  {
   "cell_type": "code",
   "execution_count": 182,
   "metadata": {},
   "outputs": [],
   "source": [
    "import_model_1 = tf.keras.models.load_model('model_1.h5')"
   ]
  },
  {
   "cell_type": "code",
   "execution_count": 201,
   "metadata": {},
   "outputs": [],
   "source": [
    "single_data_point = reshaped_test_data[8]"
   ]
  },
  {
   "cell_type": "code",
   "execution_count": 200,
   "metadata": {},
   "outputs": [
    {
     "data": {
      "text/plain": [
       "array([14.])"
      ]
     },
     "execution_count": 200,
     "metadata": {},
     "output_type": "execute_result"
    }
   ],
   "source": [
    "actual_class = numpy_train[8]\n",
    "actual_class"
   ]
  },
  {
   "cell_type": "code",
   "execution_count": 202,
   "metadata": {},
   "outputs": [],
   "source": [
    "single_data_point = np.expand_dims(single_data_point, axis=0)"
   ]
  },
  {
   "cell_type": "code",
   "execution_count": 203,
   "metadata": {},
   "outputs": [
    {
     "name": "stdout",
     "output_type": "stream",
     "text": [
      "1/1 [==============================] - 0s 11ms/step\n"
     ]
    }
   ],
   "source": [
    "predictions = import_model_1.predict(single_data_point)"
   ]
  },
  {
   "cell_type": "code",
   "execution_count": 204,
   "metadata": {},
   "outputs": [
    {
     "data": {
      "text/plain": [
       "array([[4.9185434e-07, 1.1412274e-09, 6.6649923e-06, 2.5992816e-07,\n",
       "        2.9107416e-10, 2.3319370e-07, 4.1049447e-10, 9.9998689e-01,\n",
       "        2.8697366e-06, 1.5660976e-09, 3.8412892e-08, 2.7662611e-07,\n",
       "        1.4283761e-09, 6.2770239e-10, 9.7683273e-10, 2.3764262e-06,\n",
       "        3.9002849e-08]], dtype=float32)"
      ]
     },
     "execution_count": 204,
     "metadata": {},
     "output_type": "execute_result"
    }
   ],
   "source": [
    "predictions"
   ]
  },
  {
   "cell_type": "code",
   "execution_count": 205,
   "metadata": {},
   "outputs": [
    {
     "name": "stdout",
     "output_type": "stream",
     "text": [
      "7\n"
     ]
    }
   ],
   "source": [
    "predicted_class = np.argmax(predictions)\n",
    "predicted_label = class_numbers[predicted_class]\n",
    "print(predicted_label)"
   ]
  },
  {
   "cell_type": "markdown",
   "metadata": {},
   "source": [
    "## Experiments"
   ]
  },
  {
   "cell_type": "code",
   "execution_count": null,
   "metadata": {},
   "outputs": [],
   "source": [
    "# FOR IMAGES\n",
    "# Learning rate\n",
    "# stride\n",
    "# Filter size\n",
    "# pool size\n",
    "# kernel size\n",
    "\n",
    "# FOR KEYPOINTS\n",
    "# Filter size\n",
    "# batch size\n",
    "# epochs"
   ]
  }
 ],
 "metadata": {
  "kernelspec": {
   "display_name": "venv",
   "language": "python",
   "name": "python3"
  },
  "language_info": {
   "codemirror_mode": {
    "name": "ipython",
    "version": 3
   },
   "file_extension": ".py",
   "mimetype": "text/x-python",
   "name": "python",
   "nbconvert_exporter": "python",
   "pygments_lexer": "ipython3",
   "version": "3.11.5"
  },
  "orig_nbformat": 4
 },
 "nbformat": 4,
 "nbformat_minor": 2
}
